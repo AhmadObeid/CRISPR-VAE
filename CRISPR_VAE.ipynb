{
  "nbformat": 4,
  "nbformat_minor": 0,
  "metadata": {
    "colab": {
      "name": "CRISPR-VAE.ipynb",
      "provenance": [],
      "collapsed_sections": [
        "ez1FKBSGAeyw",
        "QGQH2MrPAhPr",
        "1JSau6fpBrD9",
        "tLHtao5ZBCZ9",
        "H7qe3pXhDA_i",
        "dy2lNNe0FVFv",
        "iW36GO1FGv9Z",
        "fEi5jx1NLsXC",
        "PvbM8fGUMM-s",
        "ZNVlyrIsMD53",
        "4PFLZdwuMJUV"
      ],
      "authorship_tag": "ABX9TyNpeko983/etmYzuN11CpWk",
      "include_colab_link": true
    },
    "kernelspec": {
      "name": "python3",
      "display_name": "Python 3"
    },
    "language_info": {
      "name": "python"
    }
  },
  "cells": [
    {
      "cell_type": "markdown",
      "metadata": {
        "id": "view-in-github",
        "colab_type": "text"
      },
      "source": [
        "<a href=\"https://colab.research.google.com/github/AhmadObeid/CRISPR-VAE/blob/main/CRISPR_VAE.ipynb\" target=\"_parent\"><img src=\"https://colab.research.google.com/assets/colab-badge.svg\" alt=\"Open In Colab\"/></a>"
      ]
    },
    {
      "cell_type": "markdown",
      "metadata": {
        "id": "ez1FKBSGAeyw"
      },
      "source": [
        "# Imports"
      ]
    },
    {
      "cell_type": "code",
      "metadata": {
        "colab": {
          "base_uri": "https://localhost:8080/"
        },
        "id": "FkGbdT-R9UCT",
        "outputId": "9a8c82e3-6776-4916-9a26-a386c3f48bb9"
      },
      "source": [
        "import numpy as np\n",
        "from numpy.random import seed\n",
        "import tensorflow.compat.v1.keras.backend as K\n",
        "import tensorflow as tf\n",
        "tf.compat.v1.disable_eager_execution()\n",
        "from google.colab import drive\n",
        "drive.mount('/content/drive/',force_remount=True)\n",
        "import sys  \n",
        "\n",
        "from tensorflow.keras import regularizers \n",
        "from sklearn import preprocessing\n",
        "from tensorflow.keras import backend as K\n",
        "from tensorflow.keras import layers, activations\n",
        "import sys\n",
        "import os\n",
        "import tensorflow.keras as keras\n",
        "from tensorflow.keras.models import Model\n",
        "from scipy.stats import spearmanr, norm\n",
        "from matplotlib import pyplot as plt\n",
        "from scipy.stats import spearmanr, norm\n",
        "import scipy.io as sio\n",
        "import itertools\n",
        "from sklearn.svm import SVR\n",
        "from sklearn.pipeline import Pipeline, make_pipeline\n",
        "from sklearn.model_selection import cross_val_score\n",
        "from sklearn.utils import shuffle \n",
        "import time\n",
        "from sklearn.metrics import mean_squared_error as MSE\n",
        "from sklearn.model_selection import train_test_split\n",
        "import seaborn as sns\n",
        "from itertools import combinations \n",
        "import pdb\n",
        "from collections import defaultdict\n",
        "import openpyxl\n",
        "from openpyxl import Workbook\n",
        "from openpyxl.styles import  Font, Color"
      ],
      "execution_count": null,
      "outputs": [
        {
          "output_type": "stream",
          "text": [
            "Mounted at /content/drive/\n"
          ],
          "name": "stdout"
        }
      ]
    },
    {
      "cell_type": "markdown",
      "metadata": {
        "id": "QGQH2MrPAhPr"
      },
      "source": [
        "# Utilities"
      ]
    },
    {
      "cell_type": "markdown",
      "metadata": {
        "id": "UiSCt_PdTvkr"
      },
      "source": [
        "Models"
      ]
    },
    {
      "cell_type": "code",
      "metadata": {
        "id": "b8ejr7SjTus2"
      },
      "source": [
        "def bld_seqDeepCpf(DO=0.3, optim='rmsprop',act='relu'):\n",
        "    global num_classes\n",
        "    mdl = tf.keras.Sequential([tf.keras.layers.Conv1D(80,5,activation=act,input_shape = (34,4),name='conv1'),\n",
        "                                      tf.keras.layers.AveragePooling1D(2),                                      \n",
        "                                      tf.keras.layers.Flatten(name='flat'),\n",
        "                                      tf.keras.layers.Dense(80,activation=act,name='dense80'),                                                            \n",
        "                                      tf.keras.layers.Dropout(DO,name='DO'),\n",
        "                                      tf.keras.layers.Dense(40,activation=act,name='dense40'),\n",
        "                                      tf.keras.layers.Dropout(DO),\n",
        "                                      tf.keras.layers.Dense(40, activation=act,name='dense40_1'),\n",
        "                                      tf.keras.layers.Dropout(DO),     \n",
        "                                      tf.keras.layers.Dense(1,name='dense_last')])\n",
        "    mdl.compile(optimizer=optim,loss='mse')\n",
        "    return mdl\n",
        "\n",
        "def build_classifier_cam(): \n",
        "    print(\"Building classifier\")\n",
        "    classifier = tf.keras.Sequential([tf.keras.layers.Conv2D(30,(5,1),activation='relu',input_shape = (31,4,1),\n",
        "                                                             name='conv1'),\n",
        "                                      tf.keras.layers.AveragePooling2D((2,1)),\n",
        "                                      \n",
        "                                      tf.keras.layers.Dropout(0.4),\n",
        "                                      tf.keras.layers.Conv2D(30,(5,1),name='conv2'),\n",
        "                                      tf.keras.layers.AveragePooling2D((2,1)),\n",
        "                                      tf.keras.layers.Dropout(0.3),\n",
        "                                      tf.keras.layers.Flatten(),                                      \n",
        "                                      tf.keras.layers.Dense(1, activation='sigmoid')])\n",
        "    return classifier"
      ],
      "execution_count": null,
      "outputs": []
    },
    {
      "cell_type": "markdown",
      "metadata": {
        "id": "LJJrpJ45T598"
      },
      "source": [
        "CRISPR-VAE essentials"
      ]
    },
    {
      "cell_type": "code",
      "metadata": {
        "id": "hB4zEBZLIHIE"
      },
      "source": [
        "def sampling(args):\n",
        "    z_mean, z_log_var = args\n",
        "    epsilon = K.random_normal(shape=(K.shape(z_mean)[0], latent_dim),\n",
        "    mean=0., stddev=1.)\n",
        "    return z_mean + K.exp(z_log_var) * epsilon\n",
        "\n",
        "class CustomVariationalLayer(keras.layers.Layer):    \n",
        "    def vae_loss(self, x, z_decoded):\n",
        "        x = K.flatten(x)\n",
        "        z_decoded = K.flatten(z_decoded)\n",
        "        xent_loss = keras.metrics.binary_crossentropy(x, z_decoded)\n",
        "        kl_loss = -5e-4 * K.mean( \n",
        "        1 + z_log_var - K.square(z_mean) - K.exp(z_log_var), axis=-1)\n",
        "        return K.mean(xent_loss + kl_loss)\n",
        "    def call(self, inputs):\n",
        "        x = inputs[0]\n",
        "        z_decoded = inputs[1]\n",
        "        # beta = inputs[2]\n",
        "        loss = self.vae_loss(x, z_decoded) #, beta\n",
        "        self.add_loss(loss, inputs=inputs)\n",
        "        return x\n",
        "\n",
        "def inject_T(decoded_seq):\n",
        "  lb_temp = preprocessing.LabelBinarizer().fit(np.arange(4))\n",
        "  injection = 3*np.ones((len(decoded_seq),))\n",
        "  inj = lb_temp.transform(injection)[:,None,:]\n",
        "  inj = np.repeat(inj,3,axis=1)\n",
        "  inj.shape\n",
        "  decoded_seq = np.concatenate((decoded_seq[:,:4,:,:],inj[:,:,:,None],decoded_seq[:,4:,:,:]),axis=1)\n",
        "  return decoded_seq\n",
        "\n",
        "def seq_to_txt_bulk(array):\n",
        "  n = len(array)\n",
        "  maxxed_array = array.argmax(-1)\n",
        "  choice = np.array([\"A\",\"C\",\"G\",\"T\"])\n",
        "  str1 = \"\"\n",
        "  txt_array = []\n",
        "  for seq in range(n):\n",
        "    temp = choice[maxxed_array[seq]]\n",
        "    txt_array += [str1.join(temp)]  \n",
        "  return txt_array"
      ],
      "execution_count": null,
      "outputs": []
    },
    {
      "cell_type": "markdown",
      "metadata": {
        "id": "MBGBgcjbUkHb"
      },
      "source": [
        "Miscellaneous "
      ]
    },
    {
      "cell_type": "code",
      "metadata": {
        "id": "MAa-0cznUmCf"
      },
      "source": [
        "def seq_to_img(max_indices):\n",
        "  digit_size = 24\n",
        "  n = len(max_indices)\n",
        "  figure = np.zeros((digit_size, digit_size * n,3))\n",
        "  A = plt.imread(\"/content/drive/MyDrive/CRISPR-VAE/A.png\")[:,:,:3]\n",
        "  C = plt.imread(\"/content/drive/MyDrive/CRISPR-VAE/C.png\")[:,:,:3]\n",
        "  G = plt.imread(\"/content/drive/MyDrive/CRISPR-VAE/G.png\")[:,:,:3]\n",
        "  T = plt.imread(\"/content/drive/MyDrive/CRISPR-VAE/T.png\")[:,:,:3]\n",
        "  choice = (A,C,G,T)\n",
        "  for bp in range(n):\n",
        "    figure[:,bp*digit_size:(bp+1)*digit_size,:] = choice[max_indices[bp]]\n",
        "  plt.figure(figsize=(10, 10))\n",
        "  fig = plt.imshow(figure)\n",
        "  plt.axis('off')\n",
        "  return figure\n",
        "\n",
        "def one_hot(array):\n",
        "    max_idx = np.argmax(array,axis=1)\n",
        "    one_hot_array = np.zeros(array.shape)\n",
        "    one_hot_array[range(len(array)),max_idx] = 1\n",
        "    return one_hot_array, max_idx\n",
        "\n",
        "def one_hot_loading(lines):\n",
        "    data_n = len(lines) - 1\n",
        "    SEQ = np.zeros((data_n, 34, 4), dtype=float)\n",
        "    rating = np.zeros((data_n, 1), dtype=int)\n",
        "    for l in range(1, data_n+1):\n",
        "        data = lines[l].split()\n",
        "        seq = data[1]\n",
        "        for i in range(34):\n",
        "            if seq[i] in \"Aa\":\n",
        "                SEQ[l-1, i, 0] = 1\n",
        "            elif seq[i] in \"Cc\":\n",
        "                SEQ[l-1, i, 1] = 1\n",
        "            elif seq[i] in \"Gg\":\n",
        "                SEQ[l-1, i, 2] = 1\n",
        "            elif seq[i] in \"Tt\":\n",
        "                SEQ[l-1, i, 3] = 1\n",
        "        rating[l-1,0] = int(data[-1])\n",
        "    return SEQ[:,:,:,None], rating\n",
        "\n",
        "def load_data():  \n",
        "  print(\"Loading HT1-1 data\")\n",
        "  FILE = open(\"/content/drive/MyDrive/CRISPR-VAE/Datasets/input_HT1-1-Rates-99.txt\", \"r\") \n",
        "  data = FILE.readlines()\n",
        "  SEQ11, Rates11 = one_hot_loading(data)  \n",
        "  FILE.close()\n",
        "\n",
        "  print(\"Loading HT1-2 data\")\n",
        "  FILE = open(\"/content/drive/MyDrive/CRISPR-VAE/Datasets/input_HT1-2-Rates-99.txt\", \"r\")\n",
        "  data = FILE.readlines()\n",
        "  SEQ12, Rates12 = one_hot_loading(data)  \n",
        "  FILE.close()\n",
        "\n",
        "  print(\"Loading HT2 data\")\n",
        "  FILE = open(\"/content/drive/MyDrive/CRISPR-VAE/Datasets/input_HT2-Rates-99.txt\", \"r\") \n",
        "  data = FILE.readlines()\n",
        "  SEQ2, Rates2 = one_hot_loading(data)  \n",
        "  FILE.close()\n",
        "\n",
        "  print(\"Loading HT3 data\")\n",
        "  FILE = open(\"/content/drive/MyDrive/CRISPR-VAE/Datasets/input_HT3-Rates-99.txt\", \"r\") \n",
        "  data = FILE.readlines()\n",
        "  SEQ3, Rates3 = one_hot_loading(data)\n",
        "  FILE.close()\n",
        "  return SEQ11, SEQ12, SEQ2, SEQ3, Rates11, Rates12, Rates2, Rates3\n",
        "\n",
        "def get_agreement(start,finish,choice='range'):\n",
        "    clss = range(start,finish) if choice == 'range' else (start,finish)    \n",
        "    deepCpf_pred = np.array([0])\n",
        "    cvae_pred = np.array([0])\n",
        "    for idx, cl in enumerate(clss): \n",
        "        preds = sio.loadmat('/content/drive/MyDrive/CRISPR-VAE/synthetic_'+str(cl)+'_pred.mat')['Rates_synth'].flatten()         \n",
        "        deepCpf_pred = np.concatenate((deepCpf_pred,preds),axis=0)\n",
        "        cvae_pred = np.concatenate((cvae_pred,idx*np.ones((10000,))),axis=0)\n",
        "    deepCpf_pred = deepCpf_pred[1:]\n",
        "    cvae_pred = cvae_pred[1:]\n",
        "    c, _ = spearmanr(deepCpf_pred,cvae_pred)\n",
        "    print('The agreement from a Spearman''s Correlation Coefficient sense is: {:.3f}'.format(c))\n",
        "\n",
        "def conv(array=None, mask_size=None):\n",
        "  w,h,d = array.shape\n",
        "  mask = np.ones((mask_size,mask_size)).astype(bool)\n",
        "  mid = int((mask_size-1)/2)\n",
        "  mask[1:-1,1:-1] = False\n",
        "  # mask[mid,mid] = -1\n",
        "  out = np.zeros((h-2*mid,w-2*mid))\n",
        "  for i in range(mid,h-mid):\n",
        "    for j in range(mid,w-mid):\n",
        "      patch = array[i-mid:i+mid+1,j-mid:j+mid+1,:]\n",
        "      patch = patch[mask,:] \n",
        "      dist = []\n",
        "      for neighbor in range(len(patch)):\n",
        "        dist += [sum(patch[neighbor,:] != array[i,j,:])]\n",
        "      out[i-mid,j-mid] = np.mean(np.array(dist))\n",
        "  return out\n"
      ],
      "execution_count": null,
      "outputs": []
    },
    {
      "cell_type": "markdown",
      "metadata": {
        "id": "eCntLpo-YztO"
      },
      "source": [
        "Filtering and Feature Extraction"
      ]
    },
    {
      "cell_type": "code",
      "metadata": {
        "id": "3KIqyWEQY18C"
      },
      "source": [
        "def hist_mers(seqs=None,region='seed',k=3,save=0,location=None,bi=False,name=None):\n",
        "    seqs = np.unique(seqs)\n",
        "    regions = {\n",
        "        'pre_pam':slice(0,4),\n",
        "        'pam':slice(4,8),\n",
        "        'psj':slice(7,9),\n",
        "        'seed':slice(8,14), \n",
        "        'seed1':slice(8,11), #although it's 3, it works with 2-mer\n",
        "        'seed2':slice(9,12),\n",
        "        'seed3':slice(10,13),\n",
        "        'seed4':slice(11,14),\n",
        "        'seed5':slice(12,14), #specific for 2-mer \n",
        "        'stj':slice(13,15),\n",
        "        'tr':slice(14,26),\n",
        "        'tr1':slice(14,17),\n",
        "        'tr2':slice(15,18),\n",
        "        'tr3':slice(16,19),\n",
        "        'tr4':slice(17,20),\n",
        "        'tr5':slice(18,21),\n",
        "        'tr6':slice(19,22),\n",
        "        'tr7':slice(20,23),\n",
        "        'tr8':slice(21,24),\n",
        "        'tr9':slice(22,25),\n",
        "        'tr10':slice(23,26),\n",
        "        'tpj':slice(25,27),\n",
        "        'prom':slice(26,31),\n",
        "        'prom1':slice(26,29),\n",
        "        'prom2':slice(27,30),\n",
        "        'prom3':slice(28,31),\n",
        "        'post_seq':slice(31,34),\n",
        "        'whole':slice(0,34)\n",
        "               }    \n",
        "    \n",
        "    mers = []  \n",
        "    size = k #for saving only\n",
        "    k = 4 if region == 'pam' or region == 'pre_pam' else k\n",
        "    L = regions[region].stop - regions[region].start\n",
        "    th = (len(seqs)*(L-k+1))/8.5\n",
        "    for seq in list(seqs):\n",
        "        wanted_reg = seq[regions[region]]        \n",
        "        for i in range(L-k+1):\n",
        "            mers += [wanted_reg[i:i+k]]\n",
        "    \n",
        "    plt.figure()\n",
        "    a,b = np.unique(np.array(mers),return_index=True)\n",
        "    b = np.sort(b)\n",
        "    fig = plt.hist(np.array(mers),len(a))    \n",
        "    n = 5 #max(sum(fig[0]>=th),5)        \n",
        "    srt = np.argsort(-fig[0])[:n]     \n",
        "    if save:\n",
        "        plt.close('all')      \n",
        "        \n",
        "        saveat = '/content/drive/MyDrive/CRISPR-VAE/' + name + '_' + str(size) + 'mer.xlsx'\n",
        "        if not os.path.exists(saveat):\n",
        "            wb = Workbook()\n",
        "            ws = wb.active\n",
        "            ws.title = region\n",
        "        else:\n",
        "            wb = openpyxl.load_workbook(saveat)            \n",
        "            ws = wb[region] if region in wb.sheetnames else wb.create_sheet(region)\n",
        "        row = ws.max_row + 1    \n",
        "        if location != None:\n",
        "            txt = 'Samples taken from ({:.3f},{:.3f}) : ({:.3f},{:.3f})'.format(location[0],location[2],location[1],location[3]) \n",
        "            ws.cell(row,1,txt)\n",
        "            row += 1\n",
        "        ws.cell(row,1,'{} unique mers'.format(len(fig[0])))\n",
        "        ws.cell(row,2,'max possible is {}'.format(4**k))\n",
        "        row += 1        \n",
        "        ws.cell(row,1,'Mer')        \n",
        "        ws.cell(row,2,'Count')\n",
        "        ws.cell(row,3,'Significance Thr. = {}'.format(th))\n",
        "        row += 1\n",
        "        \n",
        "        for idx, s in enumerate(srt):\n",
        "            ws.cell(idx+row,1,mers[b[s]])\n",
        "            ws.cell(idx+row,2,fig[0][s])\n",
        "        ws.cell(ws.max_row+1,1,'end')\n",
        "        wb.save(saveat)\n",
        "    else:\n",
        "        plt.xticks(rotation = 45)      \n",
        "        plt.title(str(k)+'-mer of '+region+' region')\n",
        "        txt = 'number of unique\\nmers is: '+str(len(fig[0]))\n",
        "        poss = (L-k + 1)*len(seqs)\n",
        "        txt2 = ''\n",
        "        for i in srt:\n",
        "            txt2 += '\\n'+mers[b[i]]    \n",
        "        txt += txt2\n",
        "        txt += '\\n'+str(poss)+' sampled sequences'\n",
        "        plt.text(fig[1][int(len(fig)/2)],int(max(fig[0])/2),txt)   \n",
        "        plt.show()\n",
        "\n",
        "def get_region_2d(args,extent):\n",
        "    min1,max1,min2,max2 = args\n",
        "    n = len(extent)\n",
        "    grid = np.meshgrid(extent,extent)\n",
        "    flat_grid = np.reshape(grid,(2,n**2))\n",
        "    idx_min1, idx_max1 = np.where(flat_grid[0]>=min1)[0], np.where(flat_grid[0]<=max1)[0]\n",
        "    \n",
        "    range1 = np.intersect1d(idx_min1,idx_max1)\n",
        "    idx_min2, idx_max2 = np.where(flat_grid[1]>=min2)[0], np.where(flat_grid[1]<=max2)[0]\n",
        "    \n",
        "    range2 = np.intersect1d(idx_min2,idx_max2)\n",
        "    \n",
        "     \n",
        "   \n",
        "    total_range = np.intersect1d(range1,range2)\n",
        "    region = flat_grid[:,total_range]\n",
        "    \n",
        "    return region, total_range\n",
        "\n",
        "class filter_feats(): #colors the significant in red\n",
        "    def __init__(self,mer_size):\n",
        "        self.ft_sig = Font(color=\"00FF0000\")        \n",
        "        self.high_file = '/content/drive/MyDrive/CRISPR-VAE/synth99_'+str(mer_size)+'mer'\n",
        "        self.low_file = '/content/drive/MyDrive/CRISPR-VAE/synth0_'+str(mer_size)+'mer'\n",
        "        self.wb_high = openpyxl.load_workbook(self.high_file+'.xlsx')\n",
        "        self.wb_low = openpyxl.load_workbook(self.low_file+'.xlsx')\n",
        "        self.significant = {'Location0':{},'Location1':{},\n",
        "                            'Location2':{},'Location3':{},\n",
        "                            'Location4':{}}        \n",
        "        \n",
        "    def in_high(self,for_pvals=False):                         \n",
        "        for sheet in self.wb_high.sheetnames:\n",
        "            if sheet == 'pam' or sheet=='pre_pam' or sheet=='post_seq': continue\n",
        "            self.ws_high= self.wb_high[sheet]           \n",
        "            for idx, Location_high in enumerate([14,23,32,41,5]):  #go to each Location in high        \n",
        "                th_high = float(self.ws_high[Location_high-1][2].value.split()[-1])            \n",
        "                for row in range(5): #go to all 5 sequences of each Location \n",
        "                                     \n",
        "                    cnt = self.ws_high[Location_high+row][1].value \n",
        "                    high_seq = self.ws_high[Location_high+row][0].value\n",
        "                    if cnt > th_high:\n",
        "                        exists = self.in_low(high_seq,sheet,Location_high+row)\n",
        "                        if not exists:\n",
        "                            self.ws_high[Location_high+row][0].font = self.ft_sig                              \n",
        "                            self.significant['Location'+str(idx)][sheet+' '+high_seq] = cnt if for_pvals else cnt/th_high\n",
        "                        \n",
        "        self.wb_high.save(self.high_file+'.xlsx')   \n",
        "        return self.significant\n",
        "        \n",
        "        \n",
        "    def in_low(self,high_seq,sheetname,placement):\n",
        "        ws_low = self.wb_low[sheetname]        \n",
        "        for Location_low in [5,14,23,32,41]: #go to each Location in low\n",
        "            th_low = float(ws_low[Location_low-1][2].value.split()[-1])    \n",
        "            for row in range(5):\n",
        "                if ws_low[Location_low+row][0].value == high_seq and ws_low[Location_low+row][1].value > th_low:                    \n",
        "                    return True\n",
        "        else: return False\n",
        "\n",
        "def draw_significant_feats(dic,circular=False,specials=None,for_pvals=False):             \n",
        "    mrk = \"$\\checkmark$\"  \n",
        "    specials_ult = defaultdict(list) #the special cases, if they're significant in the synthetic data\n",
        "    if for_pvals:\n",
        "        region_return, mers_return, counts_return = [], [], []        \n",
        "    for location_idx, Location in enumerate(dic): #one separate drawing for each region\n",
        "        x, y, sub_x = [], [], []\n",
        "        for entry in range(len(dic[Location].keys())):\n",
        "           if circular:\n",
        "               x += [list(dic[Location].keys())[entry].split()[0][0]]\n",
        "               sub_x += [list(dic[Location].keys())[entry].split()[0][-1]]\n",
        "           else:\n",
        "               x += [list(dic[Location].keys())[entry].split()[0]] \n",
        "           \n",
        "           y += [list(dic[Location].keys())[entry].split()[1]]\n",
        "           \n",
        "        levels = list(dic[Location].values())\n",
        "        un_y, un_idx = np.unique(y,return_index=True)\n",
        "        if circular:            \n",
        "            both = []            \n",
        "            for  pair in zip(x,sub_x):\n",
        "                both += [\"\".join(pair)]\n",
        "            theta = np.linspace(0,2*np.pi-2*np.pi/17,17)+2*np.pi/(2*17)\n",
        "            poss = ['s1','s2','s3','s4',\n",
        "                             't1','t2','t3','t4','t5',\n",
        "                             't6','t7','t8','t9','t0', #t0 = t10\n",
        "                             'p1','p2','p3'] \n",
        "            if for_pvals:\n",
        "                region_return += [both]\n",
        "                mers_return += [y]\n",
        "                counts_return += [levels]\n",
        "                \n",
        "            else: #don't need any of this for p_vals, except specials_ult   \n",
        "                plt.figure()\n",
        "                angles = {}\n",
        "                for idx, pos in enumerate(poss):\n",
        "                    angles[pos] = theta[idx]\n",
        "                colors = {'s':'r','t':'g','p':'b'}                   \n",
        "                \n",
        "                levels = np.array(levels)  \n",
        "                mx = 1.1*max(levels)            \n",
        "                #xs, ys = (mx-levels)*np.cos(theta), (mx-levels)*np.sin(theta)\n",
        "                xs, ys = [], []\n",
        "                for idx, case in enumerate(both):                    \n",
        "                    xs += [(mx-levels[idx])*np.cos(angles[case])]\n",
        "                    ys += [(mx-levels[idx])*np.sin(angles[case])]\n",
        "                \n",
        "                plt.scatter(xs,ys,marker='.',c='k') \n",
        "                \n",
        "                srt_lv = np.sort(levels)             \n",
        "                rings = mx-[srt_lv[0],srt_lv[int(len(levels)/2)],srt_lv[-2]]\n",
        "                rings_vals = mx-[srt_lv[0],srt_lv[int(len(levels)/2)],srt_lv[-1]]\n",
        "                rho = np.arange(0,np.pi*2,0.01)\n",
        "                sig_txt_loc = 110 * np.pi/180\n",
        "            \n",
        "                for ring_idx, ring in enumerate(rings):\n",
        "                    plt.plot(ring*np.cos(rho),ring*np.sin(rho),c='k',linewidth=0.5)                 \n",
        "                    plt.text(ring*np.cos(sig_txt_loc),ring*np.sin(sig_txt_loc),\n",
        "                              '{:.2f}'.format(mx-rings_vals[ring_idx]),\n",
        "                              rotation=0,weight='bold',fontsize=13) #significance text          \n",
        "                \n",
        "                plt.axis('off')\n",
        "            for idx,mer in enumerate(y): \n",
        "                if not for_pvals:                            \n",
        "                    plt.text(xs[idx],ys[idx],mer,fontsize=17,c=colors[x[idx]])\n",
        "                if mer in specials[both[idx]] and location_idx<4:\n",
        "                    specials_ult[both[idx]] += [mer]\n",
        "                    if not for_pvals:\n",
        "                        plt.plot(xs[idx],ys[idx],marker=mrk,\n",
        "                                  markersize=20,c=colors[x[idx]]) #for checkmarks\n",
        "                        # plt.plot(0.03*max(levels)*np.cos(rho)+xs[idx],\n",
        "                        #          0.03*max(levels)*np.sin(rho)+ys[idx],c=colors[x[idx]])\n",
        "                \n",
        "            if not for_pvals:\n",
        "                for idx, ang in enumerate(theta - 2*np.pi/(2*17)):\n",
        "                    if idx not in [2,5,6,8,9,10,12,13]: #unwanted lines\n",
        "                        ang_x, ang_y = np.cos(ang), np.sin(ang)\n",
        "                        if idx in [0,4,14]:\n",
        "                            r = np.linspace(0,max(rings_vals),100) \n",
        "                            plt.plot(r*ang_x,r*ang_y,'k')\n",
        "                        else:                        \n",
        "                            r = np.linspace(0,max(rings_vals),100)\n",
        "                            plt.plot(r*ang_x,r*ang_y,'k--')\n",
        "        else:\n",
        "            plt.scatter(x,levels,c='w')        \n",
        "            plt.xticks(rotation = 45,fontsize=15) \n",
        "            plt.yticks(fontsize=17) \n",
        "            \n",
        "            plt.ylabel('Mer count / significance threshold',fontsize=17)\n",
        "            for idx, level in enumerate(levels):            \n",
        "                plt.text(x[idx],level,y[idx],fontsize=17)\n",
        "        \n",
        "    if for_pvals:\n",
        "        return region_return, mers_return, counts_return, specials_ult\n",
        "\n",
        "def collaps_special(specials):\n",
        "    specials.pop('post_seq', None)    \n",
        "    special_temp = {'s1':[],'s2':[],'s3':[],'s4':[],\n",
        "                    't1':[],'t2':[],'t3':[],'t4':[],'t5':[],\n",
        "                    't6':[],'t7':[],'t8':[],'t9':[],'t0':[],\n",
        "                    'p1':[],'p2':[],'p3':[]}\n",
        "    for entry in list(specials):   \n",
        "        special_temp[entry[0]+entry[-1]] += specials[entry]\n",
        "    return special_temp\n",
        "\n",
        "def missed_out(mer_size): #highlights phenomena in HT3, HT2 that are likely to be missed by HT1\n",
        "    ft = Font(color=\"000000FF\")    \n",
        "    high_file = '/content/drive/MyDrive/CRISPR-VAE/HT_high_'+str(mer_size)+'mer'\n",
        "    low_file = '/content/drive/MyDrive/CRISPR-VAE/HT_low_'+str(mer_size)+'mer'\n",
        "    wb_high = openpyxl.load_workbook(high_file+'.xlsx')\n",
        "    wb_low = openpyxl.load_workbook(low_file+'.xlsx')\n",
        "    for sheet in wb_high.sheetnames[1:]: #no need for pam\n",
        "        ws_high, ws_low = wb_high[sheet], wb_low[sheet]\n",
        "        HT1seqs_high, HT1seqs_low = [], []\n",
        "        for row in range(4,9):\n",
        "            HT1seqs_high += [ws_high[row][0].value]\n",
        "            HT1seqs_low += [ws_low[row][0].value]\n",
        "        HT1seqs_high, HT1seqs_low = np.unique(HT1seqs_high), np.unique(HT1seqs_low)\n",
        "        for _,row in enumerate(list(range(20,25)) + list(range(12,17))):\n",
        "            if ws_high[row][0].value not in HT1seqs_high:\n",
        "                ws_high[row][0].font = ft\n",
        "            if ws_low[row][0].value not in HT1seqs_low:\n",
        "                ws_low[row][0].font = ft\n",
        "    wb_high.save(high_file+'.xlsx')   \n",
        "    wb_low.save(low_file+'.xlsx')\n",
        "\n",
        "def highlight(mer_size): #highlights missed phenomena, revealed by synth data\n",
        "    specials = {}\n",
        "    ft = Font(color=\"00FF00FF\")\n",
        "    high_file = '/content/drive/MyDrive/CRISPR-VAE/HT_high_'+str(mer_size)+'mer'\n",
        "    low_file = '/content/drive/MyDrive/CRISPR-VAE/HT_low_'+str(mer_size)+'mer'\n",
        "    high_synth = '/content/drive/MyDrive/CRISPR-VAE/synth99_'+str(mer_size)+'mer'\n",
        "    low_synth = '/content/drive/MyDrive/CRISPR-VAE/synth0_'+str(mer_size)+'mer'\n",
        "    wb_high = openpyxl.load_workbook(high_file+'.xlsx')\n",
        "    wb_low = openpyxl.load_workbook(low_file+'.xlsx')\n",
        "    wb_synth_high = openpyxl.load_workbook(high_synth+'.xlsx')\n",
        "    wb_synth_low = openpyxl.load_workbook(low_synth+'.xlsx')\n",
        "    for sheet in wb_high.sheetnames: \n",
        "        if sheet=='pam' or sheet=='pre_pam':continue #no need for pam\n",
        "        specials[sheet] = []\n",
        "        ws_high, ws_low = wb_high[sheet], wb_low[sheet]\n",
        "        ws_synth_high, ws_synth_low = wb_synth_high[sheet], wb_synth_low[sheet]\n",
        "        synth_high_seqs, synth_low_seqs = [], []\n",
        "        for _,row in enumerate(list(range(14,19))+list(range(23,28))+list(range(32,37))+list(range(41,46))):\n",
        "            synth_high_seqs += [ws_synth_high[row][0].value]\n",
        "            synth_low_seqs += [ws_synth_low[row][0].value]\n",
        "        \n",
        "        synth_high_seqs, synth_low_seqs = np.unique(synth_high_seqs), np.unique(synth_low_seqs)\n",
        "        for _,row in enumerate(list(range(20,25)) + list(range(12,17))):\n",
        "            \n",
        "            if ws_high[row][0].value in synth_high_seqs and ws_high[row][0].font.color.value == '000000FF':\n",
        "                ws_high[row][0].font = ft\n",
        "                specials[sheet] += [ws_high[row][0].value]\n",
        "            if ws_low[row][0].value in synth_low_seqs and ws_low[row][0].font.color.value == '000000FF':\n",
        "                ws_low[row][0].font = ft\n",
        "    wb_high.save(high_file+'.xlsx')   \n",
        "    wb_low.save(low_file+'.xlsx')\n",
        "    return specials\n",
        "\n"
      ],
      "execution_count": null,
      "outputs": []
    },
    {
      "cell_type": "markdown",
      "metadata": {
        "id": "1JSau6fpBrD9"
      },
      "source": [
        "# Data Loading"
      ]
    },
    {
      "cell_type": "code",
      "metadata": {
        "colab": {
          "base_uri": "https://localhost:8080/"
        },
        "id": "ZsaxBiUOBtSD",
        "outputId": "fcc05bef-ee8d-4db1-ebf8-4050b4eb5c6e"
      },
      "source": [
        "#Get HT1-1, HT1-2, HT1, HT3\n",
        "SEQ11, SEQ12, SEQ2, SEQ3, Rates11, Rates12, Rates2, Rates3 = load_data()\n",
        "num_classes = len(np.unique(Rates11))\n",
        "#Combine HT1-1 and HT1-2 to get HT1\n",
        "SEQ1, Rates1 = np.concatenate((SEQ11,SEQ12),axis=0), np.concatenate((Rates11,Rates12),axis=0)\n",
        "lb = preprocessing.LabelBinarizer().fit(Rates1)\n",
        "Rates1, Rates2, Rates3 = lb.transform(Rates1), lb.transform(Rates2), lb.transform(Rates3)\n",
        "\n",
        "#Removing TTT in PAM, important as CRISPR-VAE was trained as such\n",
        "SEQ1_nopam = np.concatenate((SEQ1[:,:4,:,:],SEQ1[:,7:,:,:]),axis=1)"
      ],
      "execution_count": null,
      "outputs": [
        {
          "output_type": "stream",
          "text": [
            "Loading HT1-1 data\n",
            "Loading HT1-2 data\n",
            "Loading HT2 data\n",
            "Loading HT3 data\n"
          ],
          "name": "stdout"
        }
      ]
    },
    {
      "cell_type": "markdown",
      "metadata": {
        "id": "tLHtao5ZBCZ9"
      },
      "source": [
        "# CRISPR-VAE Initialization"
      ]
    },
    {
      "cell_type": "code",
      "metadata": {
        "colab": {
          "base_uri": "https://localhost:8080/"
        },
        "id": "9Xr-wldBAlDm",
        "outputId": "04c6d436-37cd-44dc-8d38-c20cc5741cfd"
      },
      "source": [
        "seq_shape =  (31,4,1) \n",
        "batch_size = 512\n",
        "latent_dim = 2\n",
        "\n",
        "\n",
        "input_seq = keras.Input(shape=seq_shape)\n",
        "x = layers.Conv2D(80, (5,1),activation='relu')(input_seq)\n",
        "shape_before_flattening = K.int_shape(x)\n",
        "x = layers.Flatten()(x)\n",
        "x = layers.Dropout(0.0)(x)\n",
        "\n",
        "\n",
        "dense1 = layers.Dense(80,activation='relu')\n",
        "x = dense1(x)\n",
        "x = layers.Dropout(0.0)(x)\n",
        "\n",
        "condition_shape = (num_classes) \n",
        "input_condition = keras.Input(shape=condition_shape)\n",
        "x = tf.keras.layers.concatenate([x, input_condition], axis=-1)\n",
        "\n",
        "dense2 = layers.Dense(40,activation='relu')\n",
        "x = dense2(x)\n",
        "x = layers.Dropout(0.0)(x)\n",
        "\n",
        "dense2_2 = layers.Dense(40,activation='relu')\n",
        "x = dense2_2(x)\n",
        "x = layers.Dropout(0.0)(x)\n",
        "\n",
        "dense3 = layers.Dense(latent_dim)\n",
        "z_mean = dense3(x)\n",
        "z_log_var = layers.Dense(latent_dim)(x)\n",
        "\n",
        "\n",
        "z = layers.Lambda(sampling)([z_mean, z_log_var])\n",
        "decoder_input = layers.Input((latent_dim+num_classes))\n",
        "\n",
        "x = layers.Dense(40,activation='relu')(decoder_input)\n",
        "x = layers.Dense(40,activation='relu')(x)\n",
        "x = layers.Dense(80,activation='relu')(x)\n",
        "x = layers.Dense(np.prod(shape_before_flattening[1:]),activation='relu')(x)\n",
        "x = layers.Reshape(shape_before_flattening[1:])(x)\n",
        "x = layers.Conv2DTranspose(1, (5,1),activation='sigmoid')(x)\n",
        "\n",
        "\n",
        "decoder = Model(decoder_input, x)\n",
        "z = tf.keras.layers.concatenate([z, input_condition], axis=-1)\n",
        "z_decoded = decoder(z)\n",
        "\n",
        "y = CustomVariationalLayer()([input_seq, z_decoded])\n",
        "vae = Model([input_seq,input_condition], y)\n",
        "\n",
        "vae.compile(optimizer='adam',loss=None)\n",
        "\n",
        "vae.load_weights('/content/drive/MyDrive/CRISPR-VAE/cvae_latest.h5')\n",
        "decoder.load_weights('/content/drive/MyDrive/CRISPR-VAE/cvae_dec_latest.h5')"
      ],
      "execution_count": null,
      "outputs": [
        {
          "output_type": "stream",
          "text": [
            "WARNING:tensorflow:Output custom_variational_layer missing from loss dictionary. We assume this was done on purpose. The fit and evaluate APIs will not be expecting any data to be passed to custom_variational_layer.\n"
          ],
          "name": "stdout"
        }
      ]
    },
    {
      "cell_type": "markdown",
      "metadata": {
        "id": "H7qe3pXhDA_i"
      },
      "source": [
        "# seq-DeepCpf1 Initialization"
      ]
    },
    {
      "cell_type": "code",
      "metadata": {
        "id": "lrpzEXPGDJCr"
      },
      "source": [
        "seqDeepCpf = bld_seqDeepCpf()\n",
        "seqDeepCpf.load_weights('/content/drive/MyDrive/CRISPR-VAE/Rgs.h5')"
      ],
      "execution_count": null,
      "outputs": []
    },
    {
      "cell_type": "markdown",
      "metadata": {
        "id": "dy2lNNe0FVFv"
      },
      "source": [
        "# Decoder Visualization"
      ]
    },
    {
      "cell_type": "code",
      "metadata": {
        "colab": {
          "base_uri": "https://localhost:8080/"
        },
        "id": "TvxIUV0TFUk1",
        "outputId": "767b60d4-cd6f-42bb-b432-03beff5197cf"
      },
      "source": [
        "from tensorflow.keras import models\n",
        "latent_output =  vae.layers[-3].output \n",
        "latent_mdl = models.Model(inputs=vae.input, outputs=latent_output)\n",
        "latent_code = latent_mdl.predict([SEQ1_nopam,Rates1])\n",
        "\n",
        "decoded_output = decoder.layers[-1].output\n",
        "decoder_mdl = models.Model(inputs=decoder.input, outputs=decoded_output)\n",
        "decoded_seq = decoder_mdl.predict(latent_code)\n",
        "\n",
        "decoded_seq = inject_T(decoded_seq) #Get TTT in PAM  \n",
        "_, decoded_idx = one_hot(decoded_seq[879, :, :, 0]) # / #879 chosen at random, pick any other number at will\n",
        "fig1 = seq_to_img(decoded_idx) \n",
        "plt.title('Reconstruction')\n",
        "_, input_idx = one_hot(SEQ1[879, :, :, 0]) #879 chosen at random, pick any other number at will\n",
        "fig2 = seq_to_img(input_idx)\n",
        "plt.title('Original')"
      ],
      "execution_count": null,
      "outputs": [
        {
          "output_type": "stream",
          "text": [
            "/usr/local/lib/python3.7/dist-packages/tensorflow/python/keras/engine/training.py:2426: UserWarning: `Model.state_updates` will be removed in a future version. This property should not be used in TensorFlow 2.0, as `updates` are applied automatically.\n",
            "  warnings.warn('`Model.state_updates` will be removed in a future version. '\n"
          ],
          "name": "stderr"
        },
        {
          "output_type": "execute_result",
          "data": {
            "text/plain": [
              "Text(0.5, 1.0, 'Original')"
            ]
          },
          "metadata": {
            "tags": []
          },
          "execution_count": 9
        },
        {
          "output_type": "display_data",
          "data": {
            "image/png": "[encoded data removed]",
            "text/plain": [
              "<Figure size 720x720 with 1 Axes>"
            ]
          },
          "metadata": {
            "tags": [],
            "needs_background": "light"
          }
        },
        {
          "output_type": "display_data",
          "data": {
            "image/png": "[encoded data removed]",
            "text/plain": [
              "<Figure size 720x720 with 1 Axes>"
            ]
          },
          "metadata": {
            "tags": [],
            "needs_background": "light"
          }
        }
      ]
    },
    {
      "cell_type": "markdown",
      "metadata": {
        "id": "iW36GO1FGv9Z"
      },
      "source": [
        "# Optional: Generating Synthetic Data + Labeling by seqDeepCpf1\n",
        "\n",
        "This is optional, as the synthetic data generated for the paper is provided"
      ]
    },
    {
      "cell_type": "code",
      "metadata": {
        "colab": {
          "base_uri": "https://localhost:8080/"
        },
        "id": "c4C3gkODG0ab",
        "outputId": "532376c8-1ddb-4ab5-8aa5-38c09dda551e"
      },
      "source": [
        "lb2 = preprocessing.LabelBinarizer().fit(np.arange(4))\n",
        "grid_size = 100\n",
        "dims = 2\n",
        "clss = [0,99] \n",
        "\n",
        "for cls in clss:\n",
        "  decoder_mdl = models.Model(inputs=decoder.input, outputs=decoded_output)\n",
        "  extent = norm.ppf(np.linspace(0.05, 0.95,grid_size),scale=1)\n",
        "\n",
        "  n = grid_size**dims \n",
        "  grid = np.meshgrid(extent,extent) #for 2D\n",
        "\n",
        "  flat_grid = np.reshape(grid,(dims,grid_size**dims))\n",
        "  flat_grid = flat_grid.transpose()\n",
        "\n",
        "  conditions = np.repeat(lb.transform(np.array([cls,])),n,axis=0)\n",
        "  flat_grid = np.concatenate((flat_grid,conditions),axis=1) \n",
        "  decoded_seq = decoder_mdl.predict(flat_grid)  \n",
        "\n",
        "  decoded_seq = inject_T(decoded_seq) \n",
        "  txt_array = np.array(seq_to_txt_bulk(decoded_seq.squeeze())) \n",
        "  tmp = decoded_seq.squeeze().argmax(-1).flatten()\n",
        "  tmp = lb2.transform(tmp)  \n",
        "  decoded_seq = np.reshape(tmp,(n,34,4))\n",
        "  Rates_synth = seqDeepCpf.predict(decoded_seq)\n",
        "\n",
        "  # sio.savemat('/content/drive/MyDrive/CRISPR-VAE/synthetic_'+str(cls)+'_efficiency.mat',{'decoded_seq':decoded_seq}) #one-hot encoded\n",
        "  # sio.savemat('/content/drive/MyDrive/CRISPR-VAE/synthetic_'+str(cls)+'_efficiency_txt.mat',{'txt_array':txt_array}) #strings\n",
        "  # sio.savemat('/content/drive/MyDrive/CRISPR-VAE/synthetic_'+str(cls)+'_efficiency_labels.mat',{'Rates_synth':Rates_synth}) #Labels"
      ],
      "execution_count": null,
      "outputs": [
        {
          "output_type": "stream",
          "text": [
            "/usr/local/lib/python3.7/dist-packages/tensorflow/python/keras/engine/training.py:2426: UserWarning: `Model.state_updates` will be removed in a future version. This property should not be used in TensorFlow 2.0, as `updates` are applied automatically.\n",
            "  warnings.warn('`Model.state_updates` will be removed in a future version. '\n",
            "/usr/local/lib/python3.7/dist-packages/tensorflow/python/keras/engine/training.py:2426: UserWarning: `Model.state_updates` will be removed in a future version. This property should not be used in TensorFlow 2.0, as `updates` are applied automatically.\n",
            "  warnings.warn('`Model.state_updates` will be removed in a future version. '\n",
            "/usr/local/lib/python3.7/dist-packages/tensorflow/python/keras/engine/training.py:2426: UserWarning: `Model.state_updates` will be removed in a future version. This property should not be used in TensorFlow 2.0, as `updates` are applied automatically.\n",
            "  warnings.warn('`Model.state_updates` will be removed in a future version. '\n"
          ],
          "name": "stderr"
        }
      ]
    },
    {
      "cell_type": "markdown",
      "metadata": {
        "id": "fEi5jx1NLsXC"
      },
      "source": [
        "# Agreement Testing"
      ]
    },
    {
      "cell_type": "code",
      "metadata": {
        "colab": {
          "base_uri": "https://localhost:8080/",
          "height": 312
        },
        "id": "4UiMsZ5IKCWs",
        "outputId": "c96ba4df-5d82-40d7-fd17-79c4e1751ebd"
      },
      "source": [
        "clss = [0,99] \n",
        "for cls in clss:\n",
        "  Rates = sio.loadmat('/content/drive/MyDrive/CRISPR-VAE/synthetic_'+str(cls)+'_pred.mat')['Rates_synth']\n",
        "  plt.hist(Rates,bins=100)\n",
        "plt.title('seqDeepCpf prediction of the synthetic data')\n",
        "plt.xlabel('Prediction')\n",
        "plt.ylabel('Count')\n",
        "plt.show()\n",
        "get_agreement(0,99,None)\n"
      ],
      "execution_count": null,
      "outputs": [
        {
          "output_type": "display_data",
          "data": {
            "image/png": "[encoded data removed]",
            "text/plain": [
              "<Figure size 432x288 with 1 Axes>"
            ]
          },
          "metadata": {
            "tags": [],
            "needs_background": "light"
          }
        },
        {
          "output_type": "stream",
          "text": [
            "The agreement from a Spearmans Correlation Coefficient sense is: 0.796\n"
          ],
          "name": "stdout"
        }
      ]
    },
    {
      "cell_type": "markdown",
      "metadata": {
        "id": "PvbM8fGUMM-s"
      },
      "source": [
        "# Structure Confirmation"
      ]
    },
    {
      "cell_type": "code",
      "metadata": {
        "colab": {
          "base_uri": "https://localhost:8080/",
          "height": 285
        },
        "id": "RD58wMHdMQT-",
        "outputId": "ea1c152b-1d76-4ef5-c18d-d7abe5cac1bd"
      },
      "source": [
        "n = 100\n",
        "decoded_seq = sio.loadmat('/content/drive/MyDrive/CRISPR-VAE/synthetic_99_pred.mat')['decoded_seq']\n",
        "seqs_num_encode = decoded_seq.argmax(-1)\n",
        "seqs_num_encode = np.reshape(seqs_num_encode,(n,n,34))\n",
        "\n",
        "m = [3,11,29]\n",
        "mid_last = int((m[-1]-1)/2)\n",
        "out = np.zeros((n-2*mid_last,n-2*mid_last,3))\n",
        "for idx, i in enumerate(m):\n",
        "  mid = int((i-1)/2)\n",
        "  temp = conv(seqs_num_encode,i)\n",
        "  if mid != mid_last:\n",
        "    out[:,:,idx] = temp[mid_last-mid:-(mid_last-mid),mid_last-mid:-(mid_last-mid)]\n",
        "  else:\n",
        "    out[:,:,idx] = temp\n",
        "\n",
        "extent = norm.ppf(np.linspace(0.05, 0.95,100),scale=2.3)[mid:-mid]\n",
        "grid = np.meshgrid(extent,extent)\n",
        "plt.scatter(grid[0],grid[1],c=out[:,:,2]) #choose out[:,:,lambda] to specify which lambda you want to view\n",
        "plt.colorbar()"
      ],
      "execution_count": null,
      "outputs": [
        {
          "output_type": "execute_result",
          "data": {
            "text/plain": [
              "<matplotlib.colorbar.Colorbar at 0x7fadba072f90>"
            ]
          },
          "metadata": {
            "tags": []
          },
          "execution_count": 98
        },
        {
          "output_type": "display_data",
          "data": {
            "image/png": "[encoded data removed]",
            "text/plain": [
              "<Figure size 432x288 with 2 Axes>"
            ]
          },
          "metadata": {
            "tags": [],
            "needs_background": "light"
          }
        }
      ]
    },
    {
      "cell_type": "markdown",
      "metadata": {
        "id": "ZNVlyrIsMD53"
      },
      "source": [
        "# Method 1 for Feature Extraction"
      ]
    },
    {
      "cell_type": "code",
      "metadata": {
        "id": "bapJsJJbjAXj"
      },
      "source": [
        "wanted_region = ['pre_pam','pam', 'seed1','seed2','seed3','seed4',\n",
        "              'tr1','tr2','tr3','tr4','tr5','tr6','tr7','tr8','tr9','tr10',\n",
        "              'prom1','prom2','prom3','post_seq']"
      ],
      "execution_count": null,
      "outputs": []
    },
    {
      "cell_type": "markdown",
      "metadata": {
        "id": "nzlTZSRXiz_Q"
      },
      "source": [
        "1.   Histogram-summarize HT1, HT2, HT3"
      ]
    },
    {
      "cell_type": "code",
      "metadata": {
        "id": "lE9FD54HMGbO"
      },
      "source": [
        "files = ['HT1','HT2','HT3']\n",
        "choice = ['high','low']\n",
        "for fil in files:\n",
        "    for idx,_ in enumerate(choice):\n",
        "      seqs_str = sio.loadmat('/content/drive/MyDrive/CRISPR-VAE/'+fil+'_text.mat')['txt_array']\n",
        "      freq = sio.loadmat('/content/drive/MyDrive/CRISPR-VAE/'+fil+'_text.mat')['freq']\n",
        "      seqs_wanted = seqs_str[freq>75] if choice[idx] == 'high' else seqs_str[freq<25]\n",
        "      mer_size = 3\n",
        "      for region in wanted_region:\n",
        "          hist_mers(seqs_wanted,region,k=mer_size,save=1,location=None,name='HT_'+choice[idx]) #"
      ],
      "execution_count": null,
      "outputs": []
    },
    {
      "cell_type": "markdown",
      "metadata": {
        "id": "2dbyqoxmi9qk"
      },
      "source": [
        "\n",
        "2.   Histogram-summarize the synthetic data\n"
      ]
    },
    {
      "cell_type": "code",
      "metadata": {
        "id": "93AYv6jqjJQX"
      },
      "source": [
        "n = 100 #number of points in each axis of the grid\n",
        "extent = norm.ppf(np.linspace(0.05, 0.95,n),scale=1)\n",
        "for cls in clss:\n",
        "  seqs_str = sio.loadmat('/content/drive/MyDrive/CRISPR-VAE/synthetic_'+str(cls)+'_txt.mat')['txt_array']\n",
        "  #For non-quadrant-based:\n",
        "  location = (extent[0],extent[-1],extent[0],extent[-1])     \n",
        "  region, wanted_location = get_region_2d(location,extent)   \n",
        "  wanted_seqs = seqs_str[wanted_location]\n",
        "  mer_size = 3\n",
        "  for region in wanted_region:\n",
        "              hist_mers(wanted_seqs,region,k=mer_size,save=1,location=location,name='synth'+str(cls))                \n",
        "      \n",
        "  #For quadrant-based   \n",
        "  ends = [extent[0],0]\n",
        "  for x in ends:\n",
        "      x1 = x + extent[-1]\n",
        "      for y in ends:            \n",
        "          y1 = y + extent[-1]\n",
        "          location = (x,x1,y,y1)  \n",
        "          region, wanted_location = get_region_2d(location,extent) \n",
        "          wanted_seqs = seqs_str[wanted_location]    \n",
        "          for region in wanted_region:\n",
        "              hist_mers(wanted_seqs,region,k=mer_size,save=1,location=location,name='synth'+str(cls))\n"
      ],
      "execution_count": null,
      "outputs": []
    },
    {
      "cell_type": "markdown",
      "metadata": {
        "id": "a7EZUbZ1l7L1"
      },
      "source": [
        "3.   Filtering + MSMs\n",
        "\n"
      ]
    },
    {
      "cell_type": "code",
      "metadata": {
        "id": "aCfZz6RCmC4g"
      },
      "source": [
        "missed_out(3) #colors what exists in HT2, HT3, and not HT1 in blue\n",
        "specials = highlight(3) #colors what's in blue in pink, if exists in synthetic data\n",
        "specials = collaps_special(specials)\n",
        "dic = filter_feats(3).in_high() #colors what's above the threshold by red\n",
        "draw_significant_feats(dic,circular=True,specials=specials) #Gets the MSMs\n",
        "\n",
        "# Note: if filter_feats()  back empty, this naturally throws an error when drawing the MSMs. \n",
        "# This usually happens with the non-quadrant-based MSM. Nevertheless, the other MSMs\n",
        "# will have been drawn "
      ],
      "execution_count": null,
      "outputs": []
    },
    {
      "cell_type": "markdown",
      "metadata": {
        "id": "4PFLZdwuMJUV"
      },
      "source": [
        "# Method 2 for Feature Extraction"
      ]
    },
    {
      "cell_type": "markdown",
      "metadata": {
        "id": "MniVEuCRnaM6"
      },
      "source": [
        "1.   Get the synthetic data"
      ]
    },
    {
      "cell_type": "code",
      "metadata": {
        "id": "i6SuNLq7MMAZ"
      },
      "source": [
        "from sklearn.model_selection import train_test_split\n",
        "from sklearn.utils import shuffle \n",
        "SEQ_1 = sio.loadmat('/content/drive/MyDrive/CRISPR-VAE/synthetic_99_.mat')['decoded_seq']  \n",
        "SEQ_1_str = sio.loadmat('/content/drive/MyDrive/CRISPR-VAE/synthetic_99_txt.mat')['txt_array'] \n",
        "_, a = np.unique(SEQ_1_str,return_index=True)\n",
        "SEQ_1_unique, SEQ_1_str_unique = SEQ_1[a], SEQ_1_str[a]\n",
        "\n",
        "SEQ_0 = sio.loadmat('/content/drive/MyDrive/CRISPR-VAE/synthetic_0_.mat')['decoded_seq']  \n",
        "\n",
        "SEQ_0_str = sio.loadmat('/content/drive/MyDrive/CRISPR-VAE/synthetic_0_txt.mat')['txt_array']  \n",
        "_, b = np.unique(SEQ_0_str,return_index=True)\n",
        "SEQ_0_unique, SEQ_0_str_unique = SEQ_0[b], SEQ_0_str[b]\n",
        "\n",
        "x, x_str = np.concatenate((SEQ_0_unique,SEQ_1_unique),axis=0), np.concatenate((SEQ_0_str_unique,SEQ_1_str_unique),axis=0)\n",
        "y = np.concatenate((np.zeros(len(SEQ_0_unique),),np.ones(len(SEQ_1_unique),)),axis=0)\n",
        "x, x_str, y = shuffle(x,x_str,y,random_state=123)\n",
        "x_train, x_test, y_train, y_test = train_test_split(x,y,test_size=0.33)\n",
        "\n",
        "x_train_noPAM = np.concatenate((x_train[:,:4,:],x_train[:,7:,:]),axis=1)\n",
        "x_test_noPAM = np.concatenate((x_test[:,:4,:],x_test[:,7:,:]),axis=1)"
      ],
      "execution_count": null,
      "outputs": []
    },
    {
      "cell_type": "markdown",
      "metadata": {
        "id": "TeemBKntn6RU"
      },
      "source": [
        "\n",
        "2.   Train binary classifier"
      ]
    },
    {
      "cell_type": "code",
      "metadata": {
        "id": "ZYGRgNFOn9zN",
        "colab": {
          "base_uri": "https://localhost:8080/"
        },
        "outputId": "c515be42-b976-4951-91ca-ae7dc371e110"
      },
      "source": [
        "classifier = build_classifier_cam()\n",
        "classifier.compile('adam',loss='binary_crossentropy',metrics=['acc'])\n",
        "classifier.fit(x_train_noPAM[...,None],y_train,\n",
        "               epochs=10,verbose=1,\n",
        "               validation_data=(x_test_noPAM[...,None],y_test))"
      ],
      "execution_count": null,
      "outputs": [
        {
          "output_type": "stream",
          "text": [
            "Building classifier\n",
            "Train on 8048 samples, validate on 3965 samples\n",
            "Epoch 1/10\n",
            "7936/8048 [============================>.] - ETA: 0s - loss: 0.3609 - acc: 0.8449"
          ],
          "name": "stdout"
        },
        {
          "output_type": "stream",
          "text": [
            "/usr/local/lib/python3.7/dist-packages/tensorflow/python/keras/engine/training.py:2426: UserWarning: `Model.state_updates` will be removed in a future version. This property should not be used in TensorFlow 2.0, as `updates` are applied automatically.\n",
            "  warnings.warn('`Model.state_updates` will be removed in a future version. '\n"
          ],
          "name": "stderr"
        },
        {
          "output_type": "stream",
          "text": [
            "8048/8048 [==============================] - 2s 295us/sample - loss: 0.3595 - acc: 0.8452 - val_loss: 0.2284 - val_acc: 0.9064\n",
            "Epoch 2/10\n",
            "8048/8048 [==============================] - 2s 248us/sample - loss: 0.2064 - acc: 0.9184 - val_loss: 0.1587 - val_acc: 0.9440\n",
            "Epoch 3/10\n",
            "8048/8048 [==============================] - 2s 245us/sample - loss: 0.1665 - acc: 0.9349 - val_loss: 0.1334 - val_acc: 0.9501\n",
            "Epoch 4/10\n",
            "8048/8048 [==============================] - 2s 250us/sample - loss: 0.1466 - acc: 0.9431 - val_loss: 0.1200 - val_acc: 0.9556\n",
            "Epoch 5/10\n",
            "8048/8048 [==============================] - 2s 252us/sample - loss: 0.1286 - acc: 0.9520 - val_loss: 0.1035 - val_acc: 0.9602\n",
            "Epoch 6/10\n",
            "8048/8048 [==============================] - 2s 249us/sample - loss: 0.1091 - acc: 0.9594 - val_loss: 0.0925 - val_acc: 0.9644\n",
            "Epoch 7/10\n",
            "8048/8048 [==============================] - 2s 250us/sample - loss: 0.1085 - acc: 0.9585 - val_loss: 0.0822 - val_acc: 0.9695\n",
            "Epoch 8/10\n",
            "8048/8048 [==============================] - 2s 252us/sample - loss: 0.0981 - acc: 0.9635 - val_loss: 0.0750 - val_acc: 0.9728\n",
            "Epoch 9/10\n",
            "8048/8048 [==============================] - 2s 254us/sample - loss: 0.0969 - acc: 0.9638 - val_loss: 0.0698 - val_acc: 0.9760\n",
            "Epoch 10/10\n",
            "8048/8048 [==============================] - 2s 252us/sample - loss: 0.0938 - acc: 0.9628 - val_loss: 0.0677 - val_acc: 0.9763\n"
          ],
          "name": "stdout"
        },
        {
          "output_type": "execute_result",
          "data": {
            "text/plain": [
              "<tensorflow.python.keras.callbacks.History at 0x7fcee87adfd0>"
            ]
          },
          "metadata": {
            "tags": []
          },
          "execution_count": 22
        }
      ]
    },
    {
      "cell_type": "markdown",
      "metadata": {
        "id": "HeWhow2Foxjk"
      },
      "source": [
        "\n",
        "3.   Prepare CAM model\n",
        "\n"
      ]
    },
    {
      "cell_type": "code",
      "metadata": {
        "id": "E7Vor2NYo1a3"
      },
      "source": [
        "output = classifier.output[:,0]\n",
        "last_conv_layer = classifier.get_layer('conv2')\n",
        "grads = K.gradients(output,last_conv_layer.output)[0]\n",
        "pooled_grads = K.mean(grads,axis=(0,1,2))\n",
        "iterate = K.function([classifier.input],[pooled_grads, last_conv_layer.output[0]])\n"
      ],
      "execution_count": null,
      "outputs": []
    },
    {
      "cell_type": "markdown",
      "metadata": {
        "id": "1fCDKRRXoWVg"
      },
      "source": [
        "4.   Get the CAMs"
      ]
    },
    {
      "cell_type": "code",
      "metadata": {
        "id": "doRJmeLMoaA1",
        "colab": {
          "base_uri": "https://localhost:8080/",
          "height": 668
        },
        "outputId": "ce7da05e-9232-4831-fbde-917ac8f2b24a"
      },
      "source": [
        "import cv2\n",
        "import matplotlib\n",
        "for x in ends:\n",
        "    x1 = x + extent[-1]\n",
        "    for y in ends:            \n",
        "        y1 = y + extent[-1]\n",
        "        location = (x,x1,y,y1)  \n",
        "        region, wanted_location = get_region_2d(location,extent) \n",
        "        wanted_seqs = SEQ_1[wanted_location]\n",
        "        wanted_seqs = np.concatenate((wanted_seqs[:,:4,:],wanted_seqs[:,7:,:]),axis=1) #for without the PAM\n",
        "\n",
        "        all = []\n",
        "        for idx, seq in enumerate(wanted_seqs):  \n",
        "          pooled_grads_value, conv_layer_output_value = iterate([seq[None,:,:,None]]) \n",
        "          conv_layer_output_value *= pooled_grads_value\n",
        "          heatmap = np.mean(conv_layer_output_value, axis=-1)\n",
        "          heatmap = np.maximum(heatmap, 0)\n",
        "          heatmap /= np.max(heatmap)\n",
        "          heatmap= cv2.resize(heatmap, (4, 31)) \n",
        "          superimposed_img = heatmap * 0.4 + seq\n",
        "          if len(np.argwhere(np.isnan(heatmap))) > 0: continue\n",
        "          all += [heatmap]\n",
        "        all = np.array(all)        \n",
        "        avg = np.mean(all,axis=0)\n",
        "\n",
        "        font = {'family' : 'normal',\n",
        "                'weight' : 'bold',\n",
        "                'size'   : 22}        \n",
        "        plt.matshow(avg.transpose(),cmap='Reds')\n",
        "        plt.vlines([3.5,4.5,10.5,22.5,27.5],[-0.5,-0.5,-0.5,-0.5,-0.5],[4.5,4.5,4.5,4.5,4.5])\n",
        "        plt.colorbar()    \n",
        "        matplotlib.rc('font', **font)\n",
        "\n"
      ],
      "execution_count": null,
      "outputs": [
        {
          "output_type": "display_data",
          "data": {
            "image/png": "[encoded data removed]",
            "text/plain": [
              "<Figure size 1152x148.645 with 2 Axes>"
            ]
          },
          "metadata": {
            "tags": [],
            "needs_background": "light"
          }
        },
        {
          "output_type": "display_data",
          "data": {
            "image/png": "[encoded data removed]",
            "text/plain": [
              "<Figure size 1152x148.645 with 2 Axes>"
            ]
          },
          "metadata": {
            "tags": [],
            "needs_background": "light"
          }
        },
        {
          "output_type": "display_data",
          "data": {
            "image/png": "[encoded data removed]",
            "text/plain": [
              "<Figure size 1152x148.645 with 2 Axes>"
            ]
          },
          "metadata": {
            "tags": [],
            "needs_background": "light"
          }
        },
        {
          "output_type": "display_data",
          "data": {
            "image/png": "[encoded data removed]",
            "text/plain": [
              "<Figure size 1152x148.645 with 2 Axes>"
            ]
          },
          "metadata": {
            "tags": [],
            "needs_background": "light"
          }
        }
      ]
    }
  ]
}